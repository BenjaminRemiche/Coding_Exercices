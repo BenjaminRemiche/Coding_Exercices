{
  "nbformat": 4,
  "nbformat_minor": 0,
  "metadata": {
    "colab": {
      "provenance": []
    },
    "kernelspec": {
      "name": "python3",
      "display_name": "Python 3"
    },
    "language_info": {
      "name": "python"
    }
  },
  "cells": [
    {
      "cell_type": "code",
      "execution_count": null,
      "metadata": {
        "id": "3UcE98_5hnml"
      },
      "outputs": [],
      "source": []
    },
    {
      "cell_type": "code",
      "source": [
        "# Question 0:\n",
        "\n",
        "# Given a list, return the occurence of each element.\n",
        "def get_occurence_of_each_element(x):\n",
        "  pass\n",
        "\n",
        "print(get_occurence_of_each_element([1, 2, 4, 3, 2, 6, 3, 1, 3, 3, 4, 4]))\n",
        "# Expected output :\n",
        "# 1 --> 2\n",
        "# 2 --> 2\n",
        "# 3 --> 4\n",
        "# 4 --> 3\n",
        "# 5 --> 0 [Optional]\n",
        "# 6 --> 1"
      ],
      "metadata": {
        "colab": {
          "base_uri": "https://localhost:8080/"
        },
        "id": "EtaAMU2ZhgC6",
        "outputId": "c756a310-96da-403a-a26c-582cd7e247fd"
      },
      "execution_count": null,
      "outputs": [
        {
          "output_type": "stream",
          "name": "stdout",
          "text": [
            "None\n"
          ]
        }
      ]
    },
    {
      "cell_type": "code",
      "source": [
        "# Question 1:\n",
        "\n",
        "# Given a list, return the element with the most occurence.\n",
        "def get_most_occurence(x):\n",
        "  pass\n",
        "\n",
        "assert(get_most_occurence([4, 2, 2, 1, 2]) == 2) # -> 2\n",
        "assert(get_most_occurence([4, 4, 0, 1, 2]) == 4) # -> 4\n",
        "assert(get_most_occurence([4, -2, -2]) == -2) # -> -2"
      ],
      "metadata": {
        "id": "W643i1XTheXQ"
      },
      "execution_count": null,
      "outputs": []
    },
    {
      "cell_type": "code",
      "source": [
        "# Question 2:\n",
        "\n",
        "# Write a function that take a 2D points and a list of 2 points (in an 2D numpy array format) and return the index\n",
        "# of the closest point in the list (according to euclidian distance)\n",
        "# Exemple:get_closest(np.array([0.1, 0.5]), np.array([[0.2, 0.4],[0.1, 0.2],[0.5, 0.0]])) -> 0\n",
        "\n",
        "def get_closest(point, candidates):\n",
        "    pass\n",
        "\n",
        "get_closest(np.array([0.1, 0.5]), np.array([[0.2, 0.4],[0.1, 0.2],[0.5, 0.0]]))  # -> 0"
      ],
      "metadata": {
        "id": "IRPnEXoNsqEQ"
      },
      "execution_count": null,
      "outputs": []
    },
    {
      "cell_type": "code",
      "source": [
        "# Question 3:\n",
        "\n",
        "# Scale the following values between 0 and 1\n",
        "def scale(x):\n",
        "  pass\n",
        "\n",
        "scale([-3, 0, 1, 3]) # -> [0, 0.5, 0.6666667, 1.]"
      ],
      "metadata": {
        "id": "RIWuB5_0NEw-"
      },
      "execution_count": null,
      "outputs": []
    },
    {
      "cell_type": "code",
      "source": [
        "# Question 4:\n",
        "\n",
        "# Select the value of the third greatest element\n",
        "\n",
        "def get_third_greatest(x):\n",
        "  pass\n",
        "\n",
        "get_third_greatest([82, 57, 65, 81, 99, 85, 98, 91, 33, 48])  # -> 91"
      ],
      "metadata": {
        "id": "pcPwghFcAAg9"
      },
      "execution_count": null,
      "outputs": []
    },
    {
      "cell_type": "code",
      "source": [
        "# Question 5:\n",
        "\n",
        "# Select all elements greater than 10 and smaller than 70\n",
        "\n",
        "def select(x):\n",
        "  pass\n",
        "\n",
        "select([82, 57, 65, 81, 99, 85, 98, 91, 33, 48])  # -> [57, 65, 33, 48]"
      ],
      "metadata": {
        "id": "5pXXk5NJADxJ"
      },
      "execution_count": null,
      "outputs": []
    },
    {
      "cell_type": "code",
      "source": [
        "import pandas as pd\n",
        "import numpy as np\n",
        "df = pd.DataFrame(data = [[3, 7, 'Friday', 'Mary'],\n",
        "        [2, 2, 'Tuesday', 'Mary'],\n",
        "        [6, 4, 'Friday', 'Mary'],\n",
        "        [3, 5, 'Tuesday', 'Mary'],\n",
        "        [1, 2, 'Friday', 'Mary'],\n",
        "        [9, 5, 'Friday', 'Mary'],\n",
        "        [9, 6, 'Tuesday', 'John'],\n",
        "        [4, 2, 'Monday', 'Mary'],\n",
        "        [2, 4, 'Friday', 'John'],\n",
        "        [3, 2, 'Friday', 'John'],],\n",
        "        columns = ['price_per_unit', 'nb_units', 'day', 'players'])\n",
        "\n",
        "\n",
        "print(df)"
      ],
      "metadata": {
        "id": "MWBl7Rcgh77M"
      },
      "execution_count": null,
      "outputs": []
    },
    {
      "cell_type": "code",
      "source": [
        "# Question 7:\n",
        "\n",
        "# How much money did John spend?"
      ],
      "metadata": {
        "id": "T_UL-VIBh794"
      },
      "execution_count": null,
      "outputs": []
    },
    {
      "cell_type": "code",
      "source": [
        "# Question 8:\n",
        "\n",
        "# How much money did each player spend each day?"
      ],
      "metadata": {
        "id": "auje9pKgh8C7"
      },
      "execution_count": null,
      "outputs": []
    },
    {
      "cell_type": "code",
      "source": [
        "# Question 9:\n",
        "\n",
        "# Plot a comparative analysis how much money were spent each day per person\n",
        "\n",
        "\"\"\"\n",
        "Expected output is a bar plot with:\n",
        "  - in X-axis: Friday - Monday - Tuesday\n",
        "  - in Y-axis: Money spent\n",
        "  - in legend: John & Mary\n",
        "\"\"\""
      ],
      "metadata": {
        "id": "HW-aHpHrBMwG"
      },
      "execution_count": null,
      "outputs": []
    },
    {
      "cell_type": "code",
      "source": [
        "# Question 10:\n",
        "\n",
        "# Write a function top_3 that take as argument an list of probability and a list of corresponding labels.\n",
        "# The function should return a list of tuples with the top 3 probabilies (ordered from higher to lower) and the associated labels.\n",
        "\n",
        "# Exemple:top_3([0.1, 0.3, 0.8, 0.6, 0.5], ['bird', 'cat', 'dog', 'cow', 'horse']) -> [('dog', 0.8), ('cow', 0.6), ('horse', 0.5)]\n",
        "\n",
        "def top_3(proba, labels):\n",
        "  pass\n",
        "\n",
        "top_3([0.1, 0.3, 0.8, 0.6, 0.5], ['bird', 'cat', 'dog', 'cow', 'horse']) # -> [('dog', 0.8), ('cow', 0.6), ('horse', 0.5)]"
      ],
      "metadata": {
        "id": "b2q_9oMHBOt1"
      },
      "execution_count": null,
      "outputs": []
    },
    {
      "cell_type": "code",
      "source": [
        "# Question 11:\n",
        "\n",
        "# Write a function that check is a given list is a palindrome.\n",
        "# The function should work in O(n) in time and O(1) in memory\n",
        "def isPalindrome(x):\n",
        "  pass\n",
        "\n",
        "assert(isPalindrome([1, 2, 3, 2, 1]) == True) # -> True\n",
        "assert(isPalindrome([1, 3, 2, 1]) == False) # -> False\n",
        "assert(isPalindrome([1, 2, 2, 1]) == True) # -> True\n",
        "assert(isPalindrome([]) == True) # -> True\n",
        "assert(isPalindrome([1]) == True) # -> True"
      ],
      "metadata": {
        "id": "ElbWvp2PBPVE"
      },
      "execution_count": null,
      "outputs": []
    },
    {
      "cell_type": "code",
      "source": [
        "# Question 12:\n",
        "\n",
        "# Given a list of integers, find the index at which the sum of the left half of the list is equel to the right half.\n",
        "# If there is no index where this condition is satisfied, return -1.\n",
        "\n",
        "def equal_partitions(x):\n",
        "  pass\n",
        "\n",
        "assert(equal_partitions([1, 7, 3, 5, 6]) == 2) # -> 2\n",
        "assert(equal_partitions([7, 7, 3, 5, 6]) == 1) # -> 1\n",
        "assert(equal_partitions([1, 2, 3, 4, 5]) == -1) # -> -1"
      ],
      "metadata": {
        "id": "eghw9KVuBWNF"
      },
      "execution_count": null,
      "outputs": []
    }
  ]
}